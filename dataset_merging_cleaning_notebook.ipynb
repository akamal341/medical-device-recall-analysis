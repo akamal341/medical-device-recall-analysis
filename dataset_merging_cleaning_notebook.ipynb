{
 "cells": [
  {
   "cell_type": "markdown",
   "id": "83c28a69",
   "metadata": {},
   "source": [
    "# Comprehensive Analysis and Trend Evaluation of Medical Device Recalls"
   ]
  },
  {
   "cell_type": "markdown",
   "id": "1f74a987",
   "metadata": {},
   "source": [
    "## Dataset merging and cleaning notebook"
   ]
  },
  {
   "cell_type": "markdown",
   "id": "caea1a80",
   "metadata": {},
   "source": [
    "### Hunter Belous, Jared Fox, Asad Kamal"
   ]
  },
  {
   "cell_type": "code",
   "execution_count": 1,
   "id": "38aa3640",
   "metadata": {},
   "outputs": [],
   "source": [
    "import pandas as pd"
   ]
  },
  {
   "cell_type": "code",
   "execution_count": 2,
   "id": "d1ae1f8f",
   "metadata": {},
   "outputs": [],
   "source": [
    "# Load the datasets.\n",
    "\n",
    "events_df = pd.read_csv(r'C:\\Users\\akama\\Documents\\SIADS593\\events-1681209680.csv', low_memory=False)\n",
    "devices_df = pd.read_csv(r'C:\\Users\\akama\\Documents\\SIADS593\\devices-1681209661.csv', low_memory=False)\n",
    "manufacturers_df = pd.read_csv(r'C:\\Users\\akama\\Documents\\SIADS593\\manufacturers-1681209657.csv', low_memory=False)"
   ]
  },
  {
   "cell_type": "code",
   "execution_count": 3,
   "id": "f337a003",
   "metadata": {},
   "outputs": [
    {
     "name": "stdout",
     "output_type": "stream",
     "text": [
      "   id action action_classification action_level action_summary  \\\n",
      "0   1    NaN                   NaN          NaN         Recall   \n",
      "1   2    NaN                   NaN          NaN         Recall   \n",
      "2   3    NaN                   NaN          NaN         Recall   \n",
      "3   4    NaN                   NaN          NaN         Recall   \n",
      "4   5    NaN                   NaN          NaN         Recall   \n",
      "\n",
      "            authorities_link country create_date data_notes        date  ...  \\\n",
      "0  https://www.titck.gov.tr/     TUR         NaN        NaN  2016-04-04  ...   \n",
      "1  https://www.titck.gov.tr/     TUR         NaN        NaN  2016-09-20  ...   \n",
      "2  https://www.titck.gov.tr/     TUR         NaN        NaN  2016-05-09  ...   \n",
      "3  https://www.titck.gov.tr/     TUR         NaN        NaN  2016-12-19  ...   \n",
      "4  https://www.titck.gov.tr/     TUR         NaN        NaN  2017-02-20  ...   \n",
      "\n",
      "  status target_audience                 type  \\\n",
      "0    NaN             NaN  Field Safety Notice   \n",
      "1    NaN             NaN  Field Safety Notice   \n",
      "2    NaN             NaN  Field Safety Notice   \n",
      "3    NaN             NaN  Field Safety Notice   \n",
      "4    NaN             NaN  Field Safety Notice   \n",
      "\n",
      "                                  uid  uid_hash  \\\n",
      "0          2016/294   &   FA24MAR2016  41570514   \n",
      "1          2016/844   &   FSCA2016-02  415f04f4   \n",
      "2              2016/437   &   2016018  2caa03df   \n",
      "3   2016/1188   &   002/AS60130/17.00  666f0625   \n",
      "4  2017/242   &   02R06-21 / 02R06-31  6a8d063c   \n",
      "\n",
      "                                                 url  \\\n",
      "0  https://web.archive.org/web/20170817053524/htt...   \n",
      "1  https://web.archive.org/web/20170817104322/htt...   \n",
      "2  https://web.archive.org/web/20170818050616/htt...   \n",
      "3  https://web.archive.org/web/20171014025042/htt...   \n",
      "4  https://web.archive.org/web/20171014000531/htt...   \n",
      "\n",
      "                                                slug device_id  \\\n",
      "0                      tur-cell-dyn-emerald-cleanser         1   \n",
      "1  tur-tecnis-monofocal-1-piece-tecnis-1-piece-io...         2   \n",
      "2  tur-centurion-fms-package-for-centurion-vision...         3   \n",
      "3         tur-focusforce-intraocular-foldable-lenses         4   \n",
      "4                         tur-cholesterol-hdl-direct         5   \n",
      "\n",
      "                created_at               updated_at  \n",
      "0  2022-08-04 08:28:00 UTC  2022-08-04 08:28:00 UTC  \n",
      "1  2022-08-04 08:28:00 UTC  2022-08-04 08:28:00 UTC  \n",
      "2  2022-08-04 08:28:00 UTC  2022-08-04 08:28:00 UTC  \n",
      "3  2022-08-04 08:28:00 UTC  2022-08-04 08:28:00 UTC  \n",
      "4  2022-08-04 08:28:00 UTC  2022-08-04 08:28:00 UTC  \n",
      "\n",
      "[5 rows x 30 columns]\n",
      "   id classification code description distributed_to implanted  \\\n",
      "0   1            NaN  NaN   IVD Other            NaN       NaN   \n",
      "1   2            NaN  NaN   Class IIB            NaN       NaN   \n",
      "2   3            NaN  NaN   Class IIA            NaN       NaN   \n",
      "3   4            NaN  NaN   Class IIB            NaN       NaN   \n",
      "4   5            NaN  NaN   IVD Other            NaN       NaN   \n",
      "\n",
      "                                                name number  \\\n",
      "0                          Cell-Dyn Emerald Cleanser    NaN   \n",
      "1  TECNIS Monofocal 1-piece, TECNIS 1-Piece IOL w...    NaN   \n",
      "2  Centurion FMS Package for Centurion Vision System    NaN   \n",
      "3             Focusforce intraocular foldable lenses    NaN   \n",
      "4                             Cholesterol HDL Direct    NaN   \n",
      "\n",
      "  quantity_in_commerce risk_class  \\\n",
      "0                  NaN        NaN   \n",
      "1                  NaN        NaN   \n",
      "2                  NaN        NaN   \n",
      "3                  NaN        NaN   \n",
      "4                  NaN        NaN   \n",
      "\n",
      "                                                slug country  manufacturer_id  \\\n",
      "0                      tur-cell-dyn-emerald-cleanser     TUR                1   \n",
      "1  tur-tecnis-monofocal-1-piece-tecnis-1-piece-io...     TUR                2   \n",
      "2  tur-centurion-fms-package-for-centurion-vision...     TUR                3   \n",
      "3         tur-focusforce-intraocular-foldable-lenses     TUR                4   \n",
      "4                         tur-cholesterol-hdl-direct     TUR                5   \n",
      "\n",
      "                created_at               updated_at  \n",
      "0  2022-08-04 08:28:00 UTC  2022-08-04 08:28:00 UTC  \n",
      "1  2022-08-04 08:28:00 UTC  2022-08-04 08:28:00 UTC  \n",
      "2  2022-08-04 08:28:00 UTC  2022-08-04 08:28:00 UTC  \n",
      "3  2022-08-04 08:28:00 UTC  2022-08-04 08:28:00 UTC  \n",
      "4  2022-08-04 08:28:00 UTC  2022-08-04 08:28:00 UTC  \n",
      "   id address                                            comment  \\\n",
      "0   1     NaN  “We are in constant communication with regulat...   \n",
      "1   2     NaN                                                NaN   \n",
      "2   3     NaN                                                NaN   \n",
      "3   4     NaN                                                NaN   \n",
      "4   5     NaN                                                NaN   \n",
      "\n",
      "                                             name       parent_company  \\\n",
      "0                              Abbot Laboratories  Abbott Laboratories   \n",
      "1                Abbott Medical Optics (AMO) Inc.    Johnson & Johnson   \n",
      "2                         Alcon Laboratories Inc.          Novartis Ag   \n",
      "3  ANADOLU TIP TEKNO.ÜRETİM PAZ.İTH İHRTİC SAN AŞ                  NaN   \n",
      "4    ARCHEM SAĞLIK SANAYİ TİCARET LİMİTED ŞİRKETİ                  NaN   \n",
      "\n",
      "  representative                                               slug  \\\n",
      "0            NaN  turkey-drugs-and-medical-devices-agency-titck-...   \n",
      "1            NaN  turkey-drugs-and-medical-devices-agency-titck-...   \n",
      "2            NaN  turkey-drugs-and-medical-devices-agency-titck-...   \n",
      "3            NaN  turkey-drugs-and-medical-devices-agency-titck-...   \n",
      "4            NaN  turkey-drugs-and-medical-devices-agency-titck-...   \n",
      "\n",
      "                                            source               created_at  \\\n",
      "0  Turkey Drugs and Medical Devices Agency (Titck)  2022-08-04 08:28:00 UTC   \n",
      "1  Turkey Drugs and Medical Devices Agency (Titck)  2022-08-04 08:28:00 UTC   \n",
      "2  Turkey Drugs and Medical Devices Agency (Titck)  2022-08-04 08:28:00 UTC   \n",
      "3  Turkey Drugs and Medical Devices Agency (Titck)  2022-08-04 08:28:00 UTC   \n",
      "4  Turkey Drugs and Medical Devices Agency (Titck)  2022-08-04 08:28:00 UTC   \n",
      "\n",
      "                updated_at  \n",
      "0  2022-08-04 08:28:00 UTC  \n",
      "1  2022-08-04 08:28:00 UTC  \n",
      "2  2022-08-04 08:28:00 UTC  \n",
      "3  2022-08-04 08:28:00 UTC  \n",
      "4  2022-08-04 08:28:00 UTC  \n"
     ]
    }
   ],
   "source": [
    "# Check to see if datasets loaded correctly.\n",
    "\n",
    "print(events_df.head())\n",
    "print(devices_df.head())\n",
    "print(manufacturers_df.head())"
   ]
  },
  {
   "cell_type": "code",
   "execution_count": 4,
   "id": "ff07ad32",
   "metadata": {},
   "outputs": [
    {
     "name": "stdout",
     "output_type": "stream",
     "text": [
      "Events Dataset Columns: ['id', 'action', 'action_classification', 'action_level', 'action_summary', 'authorities_link', 'country', 'create_date', 'data_notes', 'date', 'date_initiated_by_firm', 'date_posted', 'date_terminated', 'date_updated', 'determined_cause', 'documents', 'icij_notes', 'number', 'reason', 'source', 'status', 'target_audience', 'type', 'uid', 'uid_hash', 'url', 'slug', 'device_id', 'created_at', 'updated_at']\n",
      "Devices Dataset Columns: ['id', 'classification', 'code', 'description', 'distributed_to', 'implanted', 'name', 'number', 'quantity_in_commerce', 'risk_class', 'slug', 'country', 'manufacturer_id', 'created_at', 'updated_at']\n",
      "Manufacturers Dataset Columns: ['id', 'address', 'comment', 'name', 'parent_company', 'representative', 'slug', 'source', 'created_at', 'updated_at']\n"
     ]
    }
   ],
   "source": [
    "# Find common key in each dataset to merge on.\n",
    "\n",
    "print(\"Events Dataset Columns:\", events_df.columns.tolist())\n",
    "print(\"Devices Dataset Columns:\", devices_df.columns.tolist())\n",
    "print(\"Manufacturers Dataset Columns:\", manufacturers_df.columns.tolist())"
   ]
  },
  {
   "cell_type": "code",
   "execution_count": 5,
   "id": "0b00d8e8",
   "metadata": {},
   "outputs": [],
   "source": [
    "# Merge events_df with devices_df on 'device_id'.\n",
    "# Using a left join to ensure that all records from the primary dataset are kept and be able to add information from\n",
    "# secondary datasets without losing any pf the primary dataset's records.\n",
    "\n",
    "merged_df1 = pd.merge(events_df, devices_df, left_on='device_id', right_on='id', how='left')"
   ]
  },
  {
   "cell_type": "code",
   "execution_count": 6,
   "id": "baad7e46",
   "metadata": {},
   "outputs": [],
   "source": [
    "# Merge the resulting dataframe with manufacturers_df on 'manufacturer_id'.\n",
    "\n",
    "final_df = pd.merge(merged_df1, manufacturers_df, left_on='manufacturer_id', right_on='id', how='left')"
   ]
  },
  {
   "cell_type": "code",
   "execution_count": 7,
   "id": "92f101ae",
   "metadata": {},
   "outputs": [
    {
     "name": "stdout",
     "output_type": "stream",
     "text": [
      "   id_x action action_classification action_level action_summary  \\\n",
      "0     1    NaN                   NaN          NaN         Recall   \n",
      "1     2    NaN                   NaN          NaN         Recall   \n",
      "2     3    NaN                   NaN          NaN         Recall   \n",
      "3     4    NaN                   NaN          NaN         Recall   \n",
      "4     5    NaN                   NaN          NaN         Recall   \n",
      "\n",
      "            authorities_link country_x create_date data_notes        date  \\\n",
      "0  https://www.titck.gov.tr/       TUR         NaN        NaN  2016-04-04   \n",
      "1  https://www.titck.gov.tr/       TUR         NaN        NaN  2016-09-20   \n",
      "2  https://www.titck.gov.tr/       TUR         NaN        NaN  2016-05-09   \n",
      "3  https://www.titck.gov.tr/       TUR         NaN        NaN  2016-12-19   \n",
      "4  https://www.titck.gov.tr/       TUR         NaN        NaN  2017-02-20   \n",
      "\n",
      "  date_initiated_by_firm date_posted date_terminated date_updated  \\\n",
      "0                    NaN         NaN             NaN          NaN   \n",
      "1                    NaN         NaN             NaN          NaN   \n",
      "2                    NaN         NaN             NaN          NaN   \n",
      "3                    NaN         NaN             NaN          NaN   \n",
      "4                    NaN         NaN             NaN          NaN   \n",
      "\n",
      "  determined_cause documents  \\\n",
      "0              NaN       NaN   \n",
      "1              NaN       NaN   \n",
      "2              NaN       NaN   \n",
      "3              NaN       NaN   \n",
      "4              NaN       NaN   \n",
      "\n",
      "                                          icij_notes number_x reason  \\\n",
      "0  Turkish data is current through July 2017. All...      NaN    NaN   \n",
      "1  Turkish data is current through July 2017. All...      NaN    NaN   \n",
      "2  Turkish data is current through July 2017. All...      NaN    NaN   \n",
      "3  Turkish data is current through July 2017. All...      NaN    NaN   \n",
      "4  Turkish data is current through July 2017. All...      NaN    NaN   \n",
      "\n",
      "                                          source_x status target_audience  \\\n",
      "0  Turkey Drugs and Medical Devices Agency (Titck)    NaN             NaN   \n",
      "1  Turkey Drugs and Medical Devices Agency (Titck)    NaN             NaN   \n",
      "2  Turkey Drugs and Medical Devices Agency (Titck)    NaN             NaN   \n",
      "3  Turkey Drugs and Medical Devices Agency (Titck)    NaN             NaN   \n",
      "4  Turkey Drugs and Medical Devices Agency (Titck)    NaN             NaN   \n",
      "\n",
      "                  type                                 uid  uid_hash  \\\n",
      "0  Field Safety Notice          2016/294   &   FA24MAR2016  41570514   \n",
      "1  Field Safety Notice          2016/844   &   FSCA2016-02  415f04f4   \n",
      "2  Field Safety Notice              2016/437   &   2016018  2caa03df   \n",
      "3  Field Safety Notice   2016/1188   &   002/AS60130/17.00  666f0625   \n",
      "4  Field Safety Notice  2017/242   &   02R06-21 / 02R06-31  6a8d063c   \n",
      "\n",
      "                                                 url  \\\n",
      "0  https://web.archive.org/web/20170817053524/htt...   \n",
      "1  https://web.archive.org/web/20170817104322/htt...   \n",
      "2  https://web.archive.org/web/20170818050616/htt...   \n",
      "3  https://web.archive.org/web/20171014025042/htt...   \n",
      "4  https://web.archive.org/web/20171014000531/htt...   \n",
      "\n",
      "                                              slug_x  device_id  \\\n",
      "0                      tur-cell-dyn-emerald-cleanser          1   \n",
      "1  tur-tecnis-monofocal-1-piece-tecnis-1-piece-io...          2   \n",
      "2  tur-centurion-fms-package-for-centurion-vision...          3   \n",
      "3         tur-focusforce-intraocular-foldable-lenses          4   \n",
      "4                         tur-cholesterol-hdl-direct          5   \n",
      "\n",
      "              created_at_x             updated_at_x  id_y classification code  \\\n",
      "0  2022-08-04 08:28:00 UTC  2022-08-04 08:28:00 UTC     1            NaN  NaN   \n",
      "1  2022-08-04 08:28:00 UTC  2022-08-04 08:28:00 UTC     2            NaN  NaN   \n",
      "2  2022-08-04 08:28:00 UTC  2022-08-04 08:28:00 UTC     3            NaN  NaN   \n",
      "3  2022-08-04 08:28:00 UTC  2022-08-04 08:28:00 UTC     4            NaN  NaN   \n",
      "4  2022-08-04 08:28:00 UTC  2022-08-04 08:28:00 UTC     5            NaN  NaN   \n",
      "\n",
      "  description distributed_to implanted  \\\n",
      "0   IVD Other            NaN       NaN   \n",
      "1   Class IIB            NaN       NaN   \n",
      "2   Class IIA            NaN       NaN   \n",
      "3   Class IIB            NaN       NaN   \n",
      "4   IVD Other            NaN       NaN   \n",
      "\n",
      "                                              name_x number_y  \\\n",
      "0                          Cell-Dyn Emerald Cleanser      NaN   \n",
      "1  TECNIS Monofocal 1-piece, TECNIS 1-Piece IOL w...      NaN   \n",
      "2  Centurion FMS Package for Centurion Vision System      NaN   \n",
      "3             Focusforce intraocular foldable lenses      NaN   \n",
      "4                             Cholesterol HDL Direct      NaN   \n",
      "\n",
      "  quantity_in_commerce risk_class  \\\n",
      "0                  NaN        NaN   \n",
      "1                  NaN        NaN   \n",
      "2                  NaN        NaN   \n",
      "3                  NaN        NaN   \n",
      "4                  NaN        NaN   \n",
      "\n",
      "                                              slug_y country_y  \\\n",
      "0                      tur-cell-dyn-emerald-cleanser       TUR   \n",
      "1  tur-tecnis-monofocal-1-piece-tecnis-1-piece-io...       TUR   \n",
      "2  tur-centurion-fms-package-for-centurion-vision...       TUR   \n",
      "3         tur-focusforce-intraocular-foldable-lenses       TUR   \n",
      "4                         tur-cholesterol-hdl-direct       TUR   \n",
      "\n",
      "   manufacturer_id             created_at_y             updated_at_y  id  \\\n",
      "0                1  2022-08-04 08:28:00 UTC  2022-08-04 08:28:00 UTC   1   \n",
      "1                2  2022-08-04 08:28:00 UTC  2022-08-04 08:28:00 UTC   2   \n",
      "2                3  2022-08-04 08:28:00 UTC  2022-08-04 08:28:00 UTC   3   \n",
      "3                4  2022-08-04 08:28:00 UTC  2022-08-04 08:28:00 UTC   4   \n",
      "4                5  2022-08-04 08:28:00 UTC  2022-08-04 08:28:00 UTC   5   \n",
      "\n",
      "  address                                            comment  \\\n",
      "0     NaN  “We are in constant communication with regulat...   \n",
      "1     NaN                                                NaN   \n",
      "2     NaN                                                NaN   \n",
      "3     NaN                                                NaN   \n",
      "4     NaN                                                NaN   \n",
      "\n",
      "                                           name_y       parent_company  \\\n",
      "0                              Abbot Laboratories  Abbott Laboratories   \n",
      "1                Abbott Medical Optics (AMO) Inc.    Johnson & Johnson   \n",
      "2                         Alcon Laboratories Inc.          Novartis Ag   \n",
      "3  ANADOLU TIP TEKNO.ÜRETİM PAZ.İTH İHRTİC SAN AŞ                  NaN   \n",
      "4    ARCHEM SAĞLIK SANAYİ TİCARET LİMİTED ŞİRKETİ                  NaN   \n",
      "\n",
      "  representative                                               slug  \\\n",
      "0            NaN  turkey-drugs-and-medical-devices-agency-titck-...   \n",
      "1            NaN  turkey-drugs-and-medical-devices-agency-titck-...   \n",
      "2            NaN  turkey-drugs-and-medical-devices-agency-titck-...   \n",
      "3            NaN  turkey-drugs-and-medical-devices-agency-titck-...   \n",
      "4            NaN  turkey-drugs-and-medical-devices-agency-titck-...   \n",
      "\n",
      "                                          source_y               created_at  \\\n",
      "0  Turkey Drugs and Medical Devices Agency (Titck)  2022-08-04 08:28:00 UTC   \n",
      "1  Turkey Drugs and Medical Devices Agency (Titck)  2022-08-04 08:28:00 UTC   \n",
      "2  Turkey Drugs and Medical Devices Agency (Titck)  2022-08-04 08:28:00 UTC   \n",
      "3  Turkey Drugs and Medical Devices Agency (Titck)  2022-08-04 08:28:00 UTC   \n",
      "4  Turkey Drugs and Medical Devices Agency (Titck)  2022-08-04 08:28:00 UTC   \n",
      "\n",
      "                updated_at  \n",
      "0  2022-08-04 08:28:00 UTC  \n",
      "1  2022-08-04 08:28:00 UTC  \n",
      "2  2022-08-04 08:28:00 UTC  \n",
      "3  2022-08-04 08:28:00 UTC  \n",
      "4  2022-08-04 08:28:00 UTC  \n",
      "Shape of the final merged dataset: (124969, 55)\n"
     ]
    }
   ],
   "source": [
    "# Inspect the final merged dataset.\n",
    "\n",
    "pd.set_option('display.max_columns', None)\n",
    "\n",
    "print(final_df.head())\n",
    "print(\"Shape of the final merged dataset:\", final_df.shape)"
   ]
  },
  {
   "cell_type": "code",
   "execution_count": 8,
   "id": "5b4087bd",
   "metadata": {},
   "outputs": [
    {
     "name": "stdout",
     "output_type": "stream",
     "text": [
      "events_df shape: (124969, 30)\n",
      "devices_df shape: (118249, 15)\n",
      "manufacturers_df shape: (31827, 10)\n",
      "merged_df1 shape: (124969, 45)\n",
      "final_df shape: (124969, 55)\n"
     ]
    }
   ],
   "source": [
    "# Check to see if everything merged properly.\n",
    "\n",
    "print(f\"events_df shape: {events_df.shape}\")\n",
    "print(f\"devices_df shape: {devices_df.shape}\")\n",
    "print(f\"manufacturers_df shape: {manufacturers_df.shape}\")\n",
    "print(f\"merged_df1 shape: {merged_df1.shape}\")\n",
    "print(f\"final_df shape: {final_df.shape}\")"
   ]
  },
  {
   "cell_type": "markdown",
   "id": "8d3547dd",
   "metadata": {},
   "source": [
    "### Data Cleaning Steps"
   ]
  },
  {
   "cell_type": "code",
   "execution_count": 9,
   "id": "928a7e11",
   "metadata": {},
   "outputs": [],
   "source": [
    "# Drop duplicates.\n",
    "\n",
    "final_df.drop_duplicates(inplace=True)"
   ]
  },
  {
   "cell_type": "code",
   "execution_count": 10,
   "id": "86e43db5",
   "metadata": {},
   "outputs": [],
   "source": [
    "# Convert 'date' column to datetime.\n",
    "\n",
    "final_df['date'] = pd.to_datetime(final_df['date'], errors='coerce')"
   ]
  },
  {
   "cell_type": "code",
   "execution_count": 11,
   "id": "a2fe5081",
   "metadata": {},
   "outputs": [],
   "source": [
    "# Rename columns to a consistent format.\n",
    "\n",
    "final_df.columns = final_df.columns.str.lower().str.replace(' ', '_')"
   ]
  },
  {
   "cell_type": "markdown",
   "id": "4a5a950b",
   "metadata": {},
   "source": [
    "#### Handling Missing Values"
   ]
  },
  {
   "cell_type": "markdown",
   "id": "d7f5aa19",
   "metadata": {},
   "source": [
    "There seems to be quite a substantial amount of missing values in the final merged dataset. Simply dropping every record with a missing value would not be conducive to our comprehensive analysis and trend evaluation of medical device recalls. This would result in a great loss of data and information.\n",
    "\n",
    "The approach to handling missing values should be carefully considered to ensure that the analysis remains robust and meaningful. We need a strategic imputation method to deal with the missing values in the context of our project."
   ]
  },
  {
   "cell_type": "code",
   "execution_count": 12,
   "id": "c202a101",
   "metadata": {},
   "outputs": [
    {
     "name": "stdout",
     "output_type": "stream",
     "text": [
      "id_x                           0\n",
      "action                     62488\n",
      "action_classification      72019\n",
      "action_level              122513\n",
      "action_summary             95864\n",
      "authorities_link              82\n",
      "country_x                      1\n",
      "create_date               119768\n",
      "data_notes                 67041\n",
      "date                       76209\n",
      "date_initiated_by_firm     69311\n",
      "date_posted                80782\n",
      "date_terminated            93482\n",
      "date_updated              124738\n",
      "determined_cause           89151\n",
      "documents                  83930\n",
      "icij_notes                     1\n",
      "number_x                   80958\n",
      "reason                     59299\n",
      "source_x                       1\n",
      "status                     88440\n",
      "target_audience           124529\n",
      "type                           1\n",
      "uid                        20682\n",
      "uid_hash                   20682\n",
      "url                        24720\n",
      "slug_x                         0\n",
      "device_id                      0\n",
      "created_at_x                   0\n",
      "updated_at_x                   0\n",
      "id_y                           0\n",
      "classification             87134\n",
      "code                       86284\n",
      "description                30237\n",
      "distributed_to             89187\n",
      "implanted                  87834\n",
      "name_x                       108\n",
      "number_y                   58578\n",
      "quantity_in_commerce       91287\n",
      "risk_class                 89878\n",
      "slug_y                         0\n",
      "country_y                      1\n",
      "manufacturer_id                0\n",
      "created_at_y                   0\n",
      "updated_at_y                   0\n",
      "id                             0\n",
      "address                    74526\n",
      "comment                   109865\n",
      "name_y                      2601\n",
      "parent_company             20831\n",
      "representative            122759\n",
      "slug                           0\n",
      "source_y                       1\n",
      "created_at                     0\n",
      "updated_at                     0\n",
      "dtype: int64\n"
     ]
    }
   ],
   "source": [
    "# How many missing values in each column are we dealing with?\n",
    "\n",
    "missing_values_before = final_df.isnull().sum()\n",
    "print(missing_values_before)"
   ]
  },
  {
   "cell_type": "markdown",
   "id": "ab3747ca",
   "metadata": {},
   "source": [
    "There are some features of the dataset that are essential for our analysis such as device_id, manufacturer_id, date, and reason. Other features add significant value such as classification, description, determined_cause, country_x. Some columns have large proportions of missing values and are less critical to the core analysis: action, action_classification, action_level, date_initiated_by_firm, documents, etc. For the remaining columns, we can use placeholders for these features that are nice to have but not essential (target_audience, authorities_link, etc)."
   ]
  },
  {
   "cell_type": "code",
   "execution_count": 13,
   "id": "c4550c2e",
   "metadata": {},
   "outputs": [],
   "source": [
    "# Drop rows where essential information is missing.\n",
    "\n",
    "essential_columns = ['device_id', 'manufacturer_id', 'date', 'reason']\n",
    "final_df.dropna(subset=essential_columns, inplace=True)"
   ]
  },
  {
   "cell_type": "code",
   "execution_count": 14,
   "id": "df0fde9b",
   "metadata": {},
   "outputs": [],
   "source": [
    "# Impute missing values for important categorical columns with the mode.\n",
    "\n",
    "important_categorical_cols = ['classification', 'country_x', 'determined_cause', 'description', 'name_y']\n",
    "for col in important_categorical_cols:\n",
    "    if col in final_df.columns:\n",
    "        mode_value = final_df[col].mode()\n",
    "        if not mode_value.empty:\n",
    "            final_df[col].fillna(mode_value[0], inplace=True)"
   ]
  },
  {
   "cell_type": "code",
   "execution_count": 15,
   "id": "40d8abca",
   "metadata": {},
   "outputs": [],
   "source": [
    "# Drop columns with a large proportion of missing values.\n",
    "\n",
    "columns_to_drop = [\n",
    "    'action', 'action_classification', 'action_level', 'data_notes',\n",
    "    'date_initiated_by_firm', 'date_posted', 'date_terminated', 'date_updated',\n",
    "    'documents', 'address', 'comment', 'representative', 'create_date'\n",
    "]\n",
    "\n",
    "final_df.drop(columns=columns_to_drop, inplace=True)"
   ]
  },
  {
   "cell_type": "code",
   "execution_count": 16,
   "id": "70eeb2be",
   "metadata": {},
   "outputs": [],
   "source": [
    "# Impute less critical information with placeholders.\n",
    "\n",
    "final_df.fillna({\n",
    "    'target_audience': 'Unknown',\n",
    "    'authorities_link': 'N/A',\n",
    "    'status': 'Unknown',\n",
    "    'distributed_to': 'N/A',\n",
    "    'implanted': 'N/A',\n",
    "    'number_x': 'N/A',\n",
    "    'number_y': 'N/A',\n",
    "    'quantity_in_commerce': 'N/A',\n",
    "    'risk_class': 'N/A',     \n",
    "    'action_summary': 'No Summary', \n",
    "    'uid': 'N/A',                    \n",
    "    'uid_hash': 'N/A',              \n",
    "    'url': 'No URL',                 \n",
    "    'name_x': 'Unknown Device Name', \n",
    "    'name_y': 'Unknown Manufacturer Name', \n",
    "    'description': 'No Description',       \n",
    "    'code': 'Unknown',                \n",
    "    'determined_cause': 'Unknown Cause', \n",
    "    'parent_company': 'Unknown Parent Company' \n",
    "}, inplace=True)"
   ]
  },
  {
   "cell_type": "code",
   "execution_count": 17,
   "id": "b7c61534",
   "metadata": {},
   "outputs": [
    {
     "name": "stdout",
     "output_type": "stream",
     "text": [
      "id_x                    0\n",
      "action_summary          0\n",
      "authorities_link        0\n",
      "country_x               0\n",
      "date                    0\n",
      "determined_cause        0\n",
      "icij_notes              0\n",
      "number_x                0\n",
      "reason                  0\n",
      "source_x                0\n",
      "status                  0\n",
      "target_audience         0\n",
      "type                    0\n",
      "uid                     0\n",
      "uid_hash                0\n",
      "url                     0\n",
      "slug_x                  0\n",
      "device_id               0\n",
      "created_at_x            0\n",
      "updated_at_x            0\n",
      "id_y                    0\n",
      "classification          0\n",
      "code                    0\n",
      "description             0\n",
      "distributed_to          0\n",
      "implanted               0\n",
      "name_x                  0\n",
      "number_y                0\n",
      "quantity_in_commerce    0\n",
      "risk_class              0\n",
      "slug_y                  0\n",
      "country_y               0\n",
      "manufacturer_id         0\n",
      "created_at_y            0\n",
      "updated_at_y            0\n",
      "id                      0\n",
      "name_y                  0\n",
      "parent_company          0\n",
      "slug                    0\n",
      "source_y                0\n",
      "created_at              0\n",
      "updated_at              0\n",
      "dtype: int64\n"
     ]
    }
   ],
   "source": [
    "# Check to see if there are any missing values after.\n",
    "\n",
    "missing_values_after = final_df.isnull().sum()\n",
    "print(missing_values_after)"
   ]
  },
  {
   "cell_type": "code",
   "execution_count": 22,
   "id": "801d8e3a",
   "metadata": {},
   "outputs": [
    {
     "name": "stdout",
     "output_type": "stream",
     "text": [
      "(9067, 42)\n"
     ]
    }
   ],
   "source": [
    "# Final DataFrame shape.\n",
    "\n",
    "print(final_df.shape)"
   ]
  },
  {
   "cell_type": "markdown",
   "id": "c5942d54",
   "metadata": {},
   "source": [
    "This approach, which may not best the best one out there, handles the columns with missing values by filling them with placeholders, ensuring that critical columns are not dropped unless necessary, and preserving the integrity of the dataset for further analysis. By doing this, our dataset becomes more manageable, complete, and ready for our respective analyses."
   ]
  },
  {
   "cell_type": "code",
   "execution_count": 18,
   "id": "cd72953a",
   "metadata": {},
   "outputs": [],
   "source": [
    "# Write the final merged DataFrame to an Excel file.\n",
    "\n",
    "file_path = r'C:\\Users\\akama\\Documents\\SIADS593\\dataset_merged.xlsx'\n",
    "final_df.to_excel(file_path, index=False, engine='xlsxwriter')"
   ]
  },
  {
   "cell_type": "code",
   "execution_count": 5,
   "id": "13feaa4f",
   "metadata": {
    "scrolled": false
   },
   "outputs": [
    {
     "name": "stdout",
     "output_type": "stream",
     "text": [
      "Python implementation: CPython\n",
      "Python version       : 3.9.13\n",
      "IPython version      : 8.8.0\n",
      "\n",
      "matplotlib: 3.7.2\n",
      "numpy     : 1.24.1\n",
      "pandas    : 1.5.3\n",
      "seaborn   : 0.12.2\n",
      "\n",
      "Compiler    : MSC v.1929 64 bit (AMD64)\n",
      "OS          : Windows\n",
      "Release     : 10\n",
      "Machine     : AMD64\n",
      "Processor   : Intel64 Family 6 Model 165 Stepping 5, GenuineIntel\n",
      "CPU cores   : 16\n",
      "Architecture: 64bit\n",
      "\n"
     ]
    }
   ],
   "source": [
    "# Record dependencies.\n",
    "\n",
    "%load_ext watermark\n",
    "%watermark -v -m -p matplotlib,numpy,pandas,seaborn"
   ]
  }
 ],
 "metadata": {
  "kernelspec": {
   "display_name": "Python 3 (ipykernel)",
   "language": "python",
   "name": "python3"
  },
  "language_info": {
   "codemirror_mode": {
    "name": "ipython",
    "version": 3
   },
   "file_extension": ".py",
   "mimetype": "text/x-python",
   "name": "python",
   "nbconvert_exporter": "python",
   "pygments_lexer": "ipython3",
   "version": "3.9.13"
  }
 },
 "nbformat": 4,
 "nbformat_minor": 5
}
